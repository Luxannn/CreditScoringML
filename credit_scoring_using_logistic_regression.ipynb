{
 "cells": [
  {
   "cell_type": "code",
   "execution_count": 1,
   "id": "87e285fb",
   "metadata": {},
   "outputs": [],
   "source": [
    "import pandas as pd\n",
    "import numpy as np\n",
    "import matplotlib.pyplot as plt"
   ]
  },
  {
   "cell_type": "code",
   "execution_count": 2,
   "id": "ba01ebc9",
   "metadata": {},
   "outputs": [],
   "source": [
    "data = pd.read_csv('LoanPrediction.csv')"
   ]
  },
  {
   "cell_type": "code",
   "execution_count": 3,
   "id": "c669b568",
   "metadata": {},
   "outputs": [],
   "source": [
    "#Gender – Пол бинарная переменная мужской или женский;\n",
    "\n",
    "#Married – Семейное положение бинарная переменная в браке или нет;\n",
    "\n",
    "#Dependents – Количество детей;\n",
    "\n",
    "#Education – Наличие высшего образования бинарная переменная есть или нет;\n",
    "\n",
    "#Self_Employed – Вид занятости бинарная переменная самозанятый или нет;\n",
    "\n",
    "#Applicantlncome – Доход заемщика;\n",
    "\n",
    "#Coapplicantlncome – Доход супруга клиента;\n",
    "\n",
    "#Loan_Amount – Сумма займа;\n",
    "\n",
    "#Loan_Amount_Term – Срок займа;\n",
    "\n",
    "#Credit_History – Кредитная история бинарная переменная удовлетворяет или нет;\n",
    "\n",
    "#Property_Area – Область проживания номинативная переменная город, посёлок или деревня\n",
    "\n",
    "#Loan_Status – Статус заёмщика\n"
   ]
  },
  {
   "cell_type": "code",
   "execution_count": 4,
   "id": "c0d910fa",
   "metadata": {},
   "outputs": [],
   "source": [
    "data.loc[data['Gender']=='Male' , 'gender_code'] = 0\n",
    "data.loc[data['Gender']=='Female' , 'gender_code'] = 1 \n",
    "#\n",
    "data.loc[data['Married']=='No' , 'married_code'] = 0\n",
    "data.loc[data['Married']=='Yes' , 'married_code'] = 1 \n",
    "#\n",
    "data.loc[data['Education']=='Not Graduate' , 'Education_code'] = 0\n",
    "data.loc[data['Education']=='Graduate' , 'Education_code'] = 1 \n",
    "#\n",
    "data.loc[data['Self_Employed']=='No' , 'Self_Employed_code'] = 0\n",
    "data.loc[data['Self_Employed']=='Yes' , 'Self_Employed_code'] = 1 \n",
    "#\n",
    "data.loc[data['Property_Area']=='Semiurban' , 'Property_Area_code'] = 0\n",
    "data.loc[data['Property_Area']=='Rural' , 'Property_Area_code'] = 1 \n",
    "data.loc[data['Property_Area']=='Urban' , 'Property_Area_code'] = 2\n",
    "#\n",
    "data.loc[data['Loan_Status']=='N' , 'Loan_Status_code'] = 0\n",
    "data.loc[data['Loan_Status']=='Y' , 'Loan_Status_code'] = 1"
   ]
  },
  {
   "cell_type": "code",
   "execution_count": 5,
   "id": "210654cb",
   "metadata": {},
   "outputs": [],
   "source": [
    "data = data.drop(['Gender'] , axis=1)\n",
    "data = data.drop(['Married'] , axis=1)\n",
    "data = data.drop(['Education'] , axis=1)\n",
    "data = data.drop(['Self_Employed'] , axis=1)\n",
    "data = data.drop(['Property_Area'] , axis=1)\n",
    "data = data.drop(['Loan_Status'] , axis=1)\n",
    "data = data.drop(['Loan_ID'] , axis=1)"
   ]
  },
  {
   "cell_type": "code",
   "execution_count": 6,
   "id": "b10d37f2",
   "metadata": {},
   "outputs": [
    {
     "data": {
      "text/html": [
       "<div>\n",
       "<style scoped>\n",
       "    .dataframe tbody tr th:only-of-type {\n",
       "        vertical-align: middle;\n",
       "    }\n",
       "\n",
       "    .dataframe tbody tr th {\n",
       "        vertical-align: top;\n",
       "    }\n",
       "\n",
       "    .dataframe thead th {\n",
       "        text-align: right;\n",
       "    }\n",
       "</style>\n",
       "<table border=\"1\" class=\"dataframe\">\n",
       "  <thead>\n",
       "    <tr style=\"text-align: right;\">\n",
       "      <th></th>\n",
       "      <th>Dependents</th>\n",
       "      <th>ApplicantIncome</th>\n",
       "      <th>CoapplicantIncome</th>\n",
       "      <th>LoanAmount</th>\n",
       "      <th>Loan_Amount_Term</th>\n",
       "      <th>Credit_History</th>\n",
       "      <th>gender_code</th>\n",
       "      <th>married_code</th>\n",
       "      <th>Education_code</th>\n",
       "      <th>Self_Employed_code</th>\n",
       "      <th>Property_Area_code</th>\n",
       "      <th>Loan_Status_code</th>\n",
       "    </tr>\n",
       "  </thead>\n",
       "  <tbody>\n",
       "    <tr>\n",
       "      <th>0</th>\n",
       "      <td>0</td>\n",
       "      <td>5849</td>\n",
       "      <td>0.0</td>\n",
       "      <td>NaN</td>\n",
       "      <td>360.0</td>\n",
       "      <td>1.0</td>\n",
       "      <td>0.0</td>\n",
       "      <td>0.0</td>\n",
       "      <td>1.0</td>\n",
       "      <td>0.0</td>\n",
       "      <td>2.0</td>\n",
       "      <td>1.0</td>\n",
       "    </tr>\n",
       "    <tr>\n",
       "      <th>1</th>\n",
       "      <td>1</td>\n",
       "      <td>4583</td>\n",
       "      <td>1508.0</td>\n",
       "      <td>128.0</td>\n",
       "      <td>360.0</td>\n",
       "      <td>1.0</td>\n",
       "      <td>0.0</td>\n",
       "      <td>1.0</td>\n",
       "      <td>1.0</td>\n",
       "      <td>0.0</td>\n",
       "      <td>1.0</td>\n",
       "      <td>0.0</td>\n",
       "    </tr>\n",
       "    <tr>\n",
       "      <th>2</th>\n",
       "      <td>0</td>\n",
       "      <td>3000</td>\n",
       "      <td>0.0</td>\n",
       "      <td>66.0</td>\n",
       "      <td>360.0</td>\n",
       "      <td>1.0</td>\n",
       "      <td>0.0</td>\n",
       "      <td>1.0</td>\n",
       "      <td>1.0</td>\n",
       "      <td>1.0</td>\n",
       "      <td>2.0</td>\n",
       "      <td>1.0</td>\n",
       "    </tr>\n",
       "    <tr>\n",
       "      <th>3</th>\n",
       "      <td>0</td>\n",
       "      <td>2583</td>\n",
       "      <td>2358.0</td>\n",
       "      <td>120.0</td>\n",
       "      <td>360.0</td>\n",
       "      <td>1.0</td>\n",
       "      <td>0.0</td>\n",
       "      <td>1.0</td>\n",
       "      <td>0.0</td>\n",
       "      <td>0.0</td>\n",
       "      <td>2.0</td>\n",
       "      <td>1.0</td>\n",
       "    </tr>\n",
       "    <tr>\n",
       "      <th>4</th>\n",
       "      <td>0</td>\n",
       "      <td>6000</td>\n",
       "      <td>0.0</td>\n",
       "      <td>141.0</td>\n",
       "      <td>360.0</td>\n",
       "      <td>1.0</td>\n",
       "      <td>0.0</td>\n",
       "      <td>0.0</td>\n",
       "      <td>1.0</td>\n",
       "      <td>0.0</td>\n",
       "      <td>2.0</td>\n",
       "      <td>1.0</td>\n",
       "    </tr>\n",
       "  </tbody>\n",
       "</table>\n",
       "</div>"
      ],
      "text/plain": [
       "  Dependents  ApplicantIncome  CoapplicantIncome  LoanAmount  \\\n",
       "0          0             5849                0.0         NaN   \n",
       "1          1             4583             1508.0       128.0   \n",
       "2          0             3000                0.0        66.0   \n",
       "3          0             2583             2358.0       120.0   \n",
       "4          0             6000                0.0       141.0   \n",
       "\n",
       "   Loan_Amount_Term  Credit_History  gender_code  married_code  \\\n",
       "0             360.0             1.0          0.0           0.0   \n",
       "1             360.0             1.0          0.0           1.0   \n",
       "2             360.0             1.0          0.0           1.0   \n",
       "3             360.0             1.0          0.0           1.0   \n",
       "4             360.0             1.0          0.0           0.0   \n",
       "\n",
       "   Education_code  Self_Employed_code  Property_Area_code  Loan_Status_code  \n",
       "0             1.0                 0.0                 2.0               1.0  \n",
       "1             1.0                 0.0                 1.0               0.0  \n",
       "2             1.0                 1.0                 2.0               1.0  \n",
       "3             0.0                 0.0                 2.0               1.0  \n",
       "4             1.0                 0.0                 2.0               1.0  "
      ]
     },
     "execution_count": 6,
     "metadata": {},
     "output_type": "execute_result"
    }
   ],
   "source": [
    "data.head()"
   ]
  },
  {
   "cell_type": "code",
   "execution_count": 7,
   "id": "849b1383",
   "metadata": {},
   "outputs": [
    {
     "data": {
      "text/plain": [
       "Credit_History\n",
       "1.0    475\n",
       "0.0     89\n",
       "Name: count, dtype: int64"
      ]
     },
     "execution_count": 7,
     "metadata": {},
     "output_type": "execute_result"
    }
   ],
   "source": [
    "data['Credit_History'].value_counts()"
   ]
  },
  {
   "cell_type": "code",
   "execution_count": 8,
   "id": "099c0297",
   "metadata": {},
   "outputs": [],
   "source": [
    "data['Dependents'] = data['Dependents'].replace('3+', 3)\n",
    "data['Dependents'] = data['Dependents'].astype(float)\n",
    "data['Dependents'].fillna(np.mean(data['Dependents']), inplace=True)"
   ]
  },
  {
   "cell_type": "code",
   "execution_count": 9,
   "id": "514436b8",
   "metadata": {},
   "outputs": [
    {
     "name": "stdout",
     "output_type": "stream",
     "text": [
      "<class 'pandas.core.frame.DataFrame'>\n",
      "RangeIndex: 614 entries, 0 to 613\n",
      "Data columns (total 12 columns):\n",
      " #   Column              Non-Null Count  Dtype  \n",
      "---  ------              --------------  -----  \n",
      " 0   Dependents          614 non-null    float64\n",
      " 1   ApplicantIncome     614 non-null    int64  \n",
      " 2   CoapplicantIncome   614 non-null    float64\n",
      " 3   LoanAmount          592 non-null    float64\n",
      " 4   Loan_Amount_Term    600 non-null    float64\n",
      " 5   Credit_History      564 non-null    float64\n",
      " 6   gender_code         601 non-null    float64\n",
      " 7   married_code        611 non-null    float64\n",
      " 8   Education_code      614 non-null    float64\n",
      " 9   Self_Employed_code  582 non-null    float64\n",
      " 10  Property_Area_code  614 non-null    float64\n",
      " 11  Loan_Status_code    614 non-null    float64\n",
      "dtypes: float64(11), int64(1)\n",
      "memory usage: 57.7 KB\n"
     ]
    }
   ],
   "source": [
    "data.info()"
   ]
  },
  {
   "cell_type": "code",
   "execution_count": 10,
   "id": "5089fc10",
   "metadata": {},
   "outputs": [
    {
     "data": {
      "text/plain": [
       "Dependents             0\n",
       "ApplicantIncome        0\n",
       "CoapplicantIncome      0\n",
       "LoanAmount            22\n",
       "Loan_Amount_Term      14\n",
       "Credit_History        50\n",
       "gender_code           13\n",
       "married_code           3\n",
       "Education_code         0\n",
       "Self_Employed_code    32\n",
       "Property_Area_code     0\n",
       "Loan_Status_code       0\n",
       "dtype: int64"
      ]
     },
     "execution_count": 10,
     "metadata": {},
     "output_type": "execute_result"
    }
   ],
   "source": [
    "data.isnull().sum()"
   ]
  },
  {
   "cell_type": "code",
   "execution_count": 11,
   "id": "c1b6add9",
   "metadata": {},
   "outputs": [
    {
     "data": {
      "text/plain": [
       "Index(['Dependents', 'ApplicantIncome', 'CoapplicantIncome', 'LoanAmount',\n",
       "       'Loan_Amount_Term', 'Credit_History', 'gender_code', 'married_code',\n",
       "       'Education_code', 'Self_Employed_code', 'Property_Area_code',\n",
       "       'Loan_Status_code'],\n",
       "      dtype='object')"
      ]
     },
     "execution_count": 11,
     "metadata": {},
     "output_type": "execute_result"
    }
   ],
   "source": [
    "data.columns"
   ]
  },
  {
   "cell_type": "code",
   "execution_count": 12,
   "id": "395dbb76",
   "metadata": {},
   "outputs": [],
   "source": [
    "data['LoanAmount'].fillna(np.mean(data['LoanAmount']), inplace=True)\n",
    "data['Loan_Amount_Term'].fillna(np.mean(data['Loan_Amount_Term']), inplace=True)\n",
    "data['Credit_History'].fillna(np.mean(data['Credit_History']), inplace=True)\n",
    "data['gender_code'].fillna(np.mean(data['gender_code']), inplace=True)\n",
    "data['married_code'].fillna(np.mean(data['married_code']), inplace=True)\n",
    "data['Self_Employed_code'].fillna(np.mean(data['Self_Employed_code']), inplace=True)"
   ]
  },
  {
   "cell_type": "code",
   "execution_count": 13,
   "id": "bf98debc",
   "metadata": {},
   "outputs": [],
   "source": [
    "from sklearn.linear_model import LogisticRegression\n",
    "from sklearn.model_selection import train_test_split\n",
    "from sklearn import metrics"
   ]
  },
  {
   "cell_type": "code",
   "execution_count": 14,
   "id": "47121fda",
   "metadata": {},
   "outputs": [],
   "source": [
    "X = data.drop(['Loan_Status_code'] , axis = 1 )\n",
    "y = data['Loan_Status_code']"
   ]
  },
  {
   "cell_type": "code",
   "execution_count": 15,
   "id": "5f2b64a3",
   "metadata": {},
   "outputs": [],
   "source": [
    "X_train , X_test , y_train , y_test = train_test_split(X , y , test_size = 0.2 , random_state = 2311)"
   ]
  },
  {
   "cell_type": "code",
   "execution_count": 16,
   "id": "638e5f87",
   "metadata": {},
   "outputs": [
    {
     "data": {
      "text/html": [
       "<style>#sk-container-id-1 {color: black;}#sk-container-id-1 pre{padding: 0;}#sk-container-id-1 div.sk-toggleable {background-color: white;}#sk-container-id-1 label.sk-toggleable__label {cursor: pointer;display: block;width: 100%;margin-bottom: 0;padding: 0.3em;box-sizing: border-box;text-align: center;}#sk-container-id-1 label.sk-toggleable__label-arrow:before {content: \"▸\";float: left;margin-right: 0.25em;color: #696969;}#sk-container-id-1 label.sk-toggleable__label-arrow:hover:before {color: black;}#sk-container-id-1 div.sk-estimator:hover label.sk-toggleable__label-arrow:before {color: black;}#sk-container-id-1 div.sk-toggleable__content {max-height: 0;max-width: 0;overflow: hidden;text-align: left;background-color: #f0f8ff;}#sk-container-id-1 div.sk-toggleable__content pre {margin: 0.2em;color: black;border-radius: 0.25em;background-color: #f0f8ff;}#sk-container-id-1 input.sk-toggleable__control:checked~div.sk-toggleable__content {max-height: 200px;max-width: 100%;overflow: auto;}#sk-container-id-1 input.sk-toggleable__control:checked~label.sk-toggleable__label-arrow:before {content: \"▾\";}#sk-container-id-1 div.sk-estimator input.sk-toggleable__control:checked~label.sk-toggleable__label {background-color: #d4ebff;}#sk-container-id-1 div.sk-label input.sk-toggleable__control:checked~label.sk-toggleable__label {background-color: #d4ebff;}#sk-container-id-1 input.sk-hidden--visually {border: 0;clip: rect(1px 1px 1px 1px);clip: rect(1px, 1px, 1px, 1px);height: 1px;margin: -1px;overflow: hidden;padding: 0;position: absolute;width: 1px;}#sk-container-id-1 div.sk-estimator {font-family: monospace;background-color: #f0f8ff;border: 1px dotted black;border-radius: 0.25em;box-sizing: border-box;margin-bottom: 0.5em;}#sk-container-id-1 div.sk-estimator:hover {background-color: #d4ebff;}#sk-container-id-1 div.sk-parallel-item::after {content: \"\";width: 100%;border-bottom: 1px solid gray;flex-grow: 1;}#sk-container-id-1 div.sk-label:hover label.sk-toggleable__label {background-color: #d4ebff;}#sk-container-id-1 div.sk-serial::before {content: \"\";position: absolute;border-left: 1px solid gray;box-sizing: border-box;top: 0;bottom: 0;left: 50%;z-index: 0;}#sk-container-id-1 div.sk-serial {display: flex;flex-direction: column;align-items: center;background-color: white;padding-right: 0.2em;padding-left: 0.2em;position: relative;}#sk-container-id-1 div.sk-item {position: relative;z-index: 1;}#sk-container-id-1 div.sk-parallel {display: flex;align-items: stretch;justify-content: center;background-color: white;position: relative;}#sk-container-id-1 div.sk-item::before, #sk-container-id-1 div.sk-parallel-item::before {content: \"\";position: absolute;border-left: 1px solid gray;box-sizing: border-box;top: 0;bottom: 0;left: 50%;z-index: -1;}#sk-container-id-1 div.sk-parallel-item {display: flex;flex-direction: column;z-index: 1;position: relative;background-color: white;}#sk-container-id-1 div.sk-parallel-item:first-child::after {align-self: flex-end;width: 50%;}#sk-container-id-1 div.sk-parallel-item:last-child::after {align-self: flex-start;width: 50%;}#sk-container-id-1 div.sk-parallel-item:only-child::after {width: 0;}#sk-container-id-1 div.sk-dashed-wrapped {border: 1px dashed gray;margin: 0 0.4em 0.5em 0.4em;box-sizing: border-box;padding-bottom: 0.4em;background-color: white;}#sk-container-id-1 div.sk-label label {font-family: monospace;font-weight: bold;display: inline-block;line-height: 1.2em;}#sk-container-id-1 div.sk-label-container {text-align: center;}#sk-container-id-1 div.sk-container {/* jupyter's `normalize.less` sets `[hidden] { display: none; }` but bootstrap.min.css set `[hidden] { display: none !important; }` so we also need the `!important` here to be able to override the default hidden behavior on the sphinx rendered scikit-learn.org. See: https://github.com/scikit-learn/scikit-learn/issues/21755 */display: inline-block !important;position: relative;}#sk-container-id-1 div.sk-text-repr-fallback {display: none;}</style><div id=\"sk-container-id-1\" class=\"sk-top-container\"><div class=\"sk-text-repr-fallback\"><pre>LogisticRegression(max_iter=101)</pre><b>In a Jupyter environment, please rerun this cell to show the HTML representation or trust the notebook. <br />On GitHub, the HTML representation is unable to render, please try loading this page with nbviewer.org.</b></div><div class=\"sk-container\" hidden><div class=\"sk-item\"><div class=\"sk-estimator sk-toggleable\"><input class=\"sk-toggleable__control sk-hidden--visually\" id=\"sk-estimator-id-1\" type=\"checkbox\" checked><label for=\"sk-estimator-id-1\" class=\"sk-toggleable__label sk-toggleable__label-arrow\">LogisticRegression</label><div class=\"sk-toggleable__content\"><pre>LogisticRegression(max_iter=101)</pre></div></div></div></div></div>"
      ],
      "text/plain": [
       "LogisticRegression(max_iter=101)"
      ]
     },
     "execution_count": 16,
     "metadata": {},
     "output_type": "execute_result"
    }
   ],
   "source": [
    "logreg = LogisticRegression(max_iter=101)\n",
    "logreg.fit(X_train , y_train)"
   ]
  },
  {
   "cell_type": "code",
   "execution_count": 17,
   "id": "93659512",
   "metadata": {},
   "outputs": [],
   "source": [
    "y_pred = logreg.predict(X_test)"
   ]
  },
  {
   "cell_type": "code",
   "execution_count": 18,
   "id": "9f87abe4",
   "metadata": {},
   "outputs": [
    {
     "data": {
      "text/plain": [
       "0.9186991869918699"
      ]
     },
     "execution_count": 18,
     "metadata": {},
     "output_type": "execute_result"
    }
   ],
   "source": [
    "acc = metrics.accuracy_score(y_test,y_pred)\n",
    "acc"
   ]
  },
  {
   "cell_type": "code",
   "execution_count": 19,
   "id": "d886e3b1",
   "metadata": {},
   "outputs": [
    {
     "data": {
      "text/plain": [
       "0.8275862068965517"
      ]
     },
     "execution_count": 19,
     "metadata": {},
     "output_type": "execute_result"
    }
   ],
   "source": [
    "metrics.roc_auc_score(y_test , y_pred)"
   ]
  },
  {
   "cell_type": "code",
   "execution_count": 20,
   "id": "3b890f69",
   "metadata": {},
   "outputs": [
    {
     "data": {
      "image/png": "[encoded data removed]",
      "text/plain": [
       "<Figure size 640x480 with 1 Axes>"
      ]
     },
     "metadata": {},
     "output_type": "display_data"
    }
   ],
   "source": [
    "y_pred_proba = logreg.predict_proba(X_test)[::,1]\n",
    "fpr, tpr, _ = metrics.roc_curve(y_test,  y_pred_proba)\n",
    "auc = metrics.roc_auc_score(y_test, y_pred_proba)\n",
    "plt.plot(fpr,tpr,label=\"AUC=\"+str(auc))\n",
    "plt.legend(loc=4)\n",
    "plt.show()"
   ]
  },
  {
   "cell_type": "code",
   "execution_count": 26,
   "id": "947b456f",
   "metadata": {},
   "outputs": [
    {
     "data": {
      "image/png": "[encoded data removed]",
      "text/plain": [
       "<Figure size 1200x800 with 1 Axes>"
      ]
     },
     "metadata": {},
     "output_type": "display_data"
    }
   ],
   "source": [
    "feature_importances = rf.feature_importances_\n",
    "feature_names = X_train.columns\n",
    "\n",
    "importance_df = pd.DataFrame({'Feature': feature_names, 'Importance': feature_importances})\n",
    "\n",
    "importance_df = importance_df.sort_values(by='Importance', ascending=False)\n",
    "\n",
    "plt.figure(figsize=(12, 8))\n",
    "plt.barh(importance_df['Feature'], importance_df['Importance'])\n",
    "plt.xlabel('Важность признака')\n",
    "plt.ylabel('Признак')\n",
    "plt.title('Важность признаков в модели RandomForestClassifier')\n",
    "plt.show()"
   ]
  },
  {
   "cell_type": "code",
   "execution_count": 27,
   "id": "f7e1e2c9",
   "metadata": {},
   "outputs": [],
   "source": [
    "import pickle"
   ]
  },
  {
   "cell_type": "code",
   "execution_count": 28,
   "id": "e7bd344f",
   "metadata": {},
   "outputs": [],
   "source": [
    "pickle_out = open(\"credit_scoring_using_logistic_regression.pkl\" , \"wb\")"
   ]
  },
  {
   "cell_type": "code",
   "execution_count": 29,
   "id": "22216ea7",
   "metadata": {},
   "outputs": [],
   "source": [
    "pickle.dump(logreg , pickle_out)"
   ]
  },
  {
   "cell_type": "code",
   "execution_count": 30,
   "id": "464d224e",
   "metadata": {},
   "outputs": [],
   "source": [
    "pickle_out.close()"
   ]
  }
 ],
 "metadata": {
  "kernelspec": {
   "display_name": "Python 3 (ipykernel)",
   "language": "python",
   "name": "python3"
  },
  "language_info": {
   "codemirror_mode": {
    "name": "ipython",
    "version": 3
   },
   "file_extension": ".py",
   "mimetype": "text/x-python",
   "name": "python",
   "nbconvert_exporter": "python",
   "pygments_lexer": "ipython3",
   "version": "3.11.5"
  }
 },
 "nbformat": 4,
 "nbformat_minor": 5
}

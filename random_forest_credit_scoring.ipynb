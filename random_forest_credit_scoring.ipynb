{
 "cells": [
  {
   "cell_type": "code",
   "execution_count": 20,
   "id": "1f6e03c5",
   "metadata": {},
   "outputs": [],
   "source": [
    "import pandas as pd \n",
    "import matplotlib.pyplot as plt"
   ]
  },
  {
   "cell_type": "code",
   "execution_count": 21,
   "id": "063b8f52",
   "metadata": {},
   "outputs": [],
   "source": [
    "data1 = pd.read_csv('application_info.csv')\n",
    "data2 = pd.read_csv('default_flg.csv')\n",
    "data = pd.merge(data1, data2, on='id', how='inner') "
   ]
  },
  {
   "cell_type": "code",
   "execution_count": 22,
   "id": "09e7fce2",
   "metadata": {},
   "outputs": [
    {
     "data": {
      "text/html": [
       "<div>\n",
       "<style scoped>\n",
       "    .dataframe tbody tr th:only-of-type {\n",
       "        vertical-align: middle;\n",
       "    }\n",
       "\n",
       "    .dataframe tbody tr th {\n",
       "        vertical-align: top;\n",
       "    }\n",
       "\n",
       "    .dataframe thead th {\n",
       "        text-align: right;\n",
       "    }\n",
       "</style>\n",
       "<table border=\"1\" class=\"dataframe\">\n",
       "  <thead>\n",
       "    <tr style=\"text-align: right;\">\n",
       "      <th></th>\n",
       "      <th>id</th>\n",
       "      <th>application_dt</th>\n",
       "      <th>sample_cd</th>\n",
       "      <th>education_cd</th>\n",
       "      <th>gender_cd</th>\n",
       "      <th>age</th>\n",
       "      <th>car_own_flg</th>\n",
       "      <th>car_type_flg</th>\n",
       "      <th>appl_rej_cnt</th>\n",
       "      <th>good_work_flg</th>\n",
       "      <th>Score_bki</th>\n",
       "      <th>out_request_cnt</th>\n",
       "      <th>region_rating</th>\n",
       "      <th>home_address_cd</th>\n",
       "      <th>work_address_cd</th>\n",
       "      <th>income</th>\n",
       "      <th>SNA</th>\n",
       "      <th>first_time_cd</th>\n",
       "      <th>Air_flg</th>\n",
       "      <th>default_flg</th>\n",
       "    </tr>\n",
       "  </thead>\n",
       "  <tbody>\n",
       "    <tr>\n",
       "      <th>0</th>\n",
       "      <td>1</td>\n",
       "      <td>01JAN2014</td>\n",
       "      <td>train</td>\n",
       "      <td>SCH</td>\n",
       "      <td>M</td>\n",
       "      <td>27</td>\n",
       "      <td>Y</td>\n",
       "      <td>Y</td>\n",
       "      <td>0</td>\n",
       "      <td>0</td>\n",
       "      <td>-1.917831</td>\n",
       "      <td>0</td>\n",
       "      <td>40</td>\n",
       "      <td>2</td>\n",
       "      <td>3</td>\n",
       "      <td>32000</td>\n",
       "      <td>1</td>\n",
       "      <td>4</td>\n",
       "      <td>N</td>\n",
       "      <td>0</td>\n",
       "    </tr>\n",
       "    <tr>\n",
       "      <th>1</th>\n",
       "      <td>2</td>\n",
       "      <td>01JAN2014</td>\n",
       "      <td>train</td>\n",
       "      <td>GRD</td>\n",
       "      <td>F</td>\n",
       "      <td>26</td>\n",
       "      <td>N</td>\n",
       "      <td>N</td>\n",
       "      <td>0</td>\n",
       "      <td>0</td>\n",
       "      <td>-1.153144</td>\n",
       "      <td>2</td>\n",
       "      <td>60</td>\n",
       "      <td>2</td>\n",
       "      <td>3</td>\n",
       "      <td>50000</td>\n",
       "      <td>2</td>\n",
       "      <td>1</td>\n",
       "      <td>N</td>\n",
       "      <td>0</td>\n",
       "    </tr>\n",
       "    <tr>\n",
       "      <th>2</th>\n",
       "      <td>3</td>\n",
       "      <td>01JAN2014</td>\n",
       "      <td>train</td>\n",
       "      <td>SCH</td>\n",
       "      <td>M</td>\n",
       "      <td>35</td>\n",
       "      <td>N</td>\n",
       "      <td>N</td>\n",
       "      <td>0</td>\n",
       "      <td>1</td>\n",
       "      <td>-1.732810</td>\n",
       "      <td>0</td>\n",
       "      <td>40</td>\n",
       "      <td>1</td>\n",
       "      <td>2</td>\n",
       "      <td>20000</td>\n",
       "      <td>4</td>\n",
       "      <td>3</td>\n",
       "      <td>N</td>\n",
       "      <td>0</td>\n",
       "    </tr>\n",
       "    <tr>\n",
       "      <th>3</th>\n",
       "      <td>4</td>\n",
       "      <td>01JAN2014</td>\n",
       "      <td>train</td>\n",
       "      <td>GRD</td>\n",
       "      <td>F</td>\n",
       "      <td>35</td>\n",
       "      <td>N</td>\n",
       "      <td>N</td>\n",
       "      <td>0</td>\n",
       "      <td>1</td>\n",
       "      <td>-2.552133</td>\n",
       "      <td>2</td>\n",
       "      <td>20</td>\n",
       "      <td>2</td>\n",
       "      <td>3</td>\n",
       "      <td>80000</td>\n",
       "      <td>1</td>\n",
       "      <td>3</td>\n",
       "      <td>N</td>\n",
       "      <td>0</td>\n",
       "    </tr>\n",
       "    <tr>\n",
       "      <th>4</th>\n",
       "      <td>5</td>\n",
       "      <td>01JAN2014</td>\n",
       "      <td>train</td>\n",
       "      <td>UGR</td>\n",
       "      <td>F</td>\n",
       "      <td>24</td>\n",
       "      <td>N</td>\n",
       "      <td>N</td>\n",
       "      <td>0</td>\n",
       "      <td>0</td>\n",
       "      <td>-1.914581</td>\n",
       "      <td>1</td>\n",
       "      <td>50</td>\n",
       "      <td>2</td>\n",
       "      <td>3</td>\n",
       "      <td>27000</td>\n",
       "      <td>1</td>\n",
       "      <td>2</td>\n",
       "      <td>N</td>\n",
       "      <td>0</td>\n",
       "    </tr>\n",
       "    <tr>\n",
       "      <th>...</th>\n",
       "      <td>...</td>\n",
       "      <td>...</td>\n",
       "      <td>...</td>\n",
       "      <td>...</td>\n",
       "      <td>...</td>\n",
       "      <td>...</td>\n",
       "      <td>...</td>\n",
       "      <td>...</td>\n",
       "      <td>...</td>\n",
       "      <td>...</td>\n",
       "      <td>...</td>\n",
       "      <td>...</td>\n",
       "      <td>...</td>\n",
       "      <td>...</td>\n",
       "      <td>...</td>\n",
       "      <td>...</td>\n",
       "      <td>...</td>\n",
       "      <td>...</td>\n",
       "      <td>...</td>\n",
       "      <td>...</td>\n",
       "    </tr>\n",
       "    <tr>\n",
       "      <th>180811</th>\n",
       "      <td>180812</td>\n",
       "      <td>31AUG2014</td>\n",
       "      <td>validate</td>\n",
       "      <td>GRD</td>\n",
       "      <td>F</td>\n",
       "      <td>60</td>\n",
       "      <td>Y</td>\n",
       "      <td>N</td>\n",
       "      <td>1</td>\n",
       "      <td>0</td>\n",
       "      <td>-2.341941</td>\n",
       "      <td>0</td>\n",
       "      <td>70</td>\n",
       "      <td>2</td>\n",
       "      <td>3</td>\n",
       "      <td>90000</td>\n",
       "      <td>1</td>\n",
       "      <td>3</td>\n",
       "      <td>Y</td>\n",
       "      <td>0</td>\n",
       "    </tr>\n",
       "    <tr>\n",
       "      <th>180812</th>\n",
       "      <td>180813</td>\n",
       "      <td>31AUG2014</td>\n",
       "      <td>validate</td>\n",
       "      <td>GRD</td>\n",
       "      <td>F</td>\n",
       "      <td>32</td>\n",
       "      <td>Y</td>\n",
       "      <td>Y</td>\n",
       "      <td>0</td>\n",
       "      <td>0</td>\n",
       "      <td>-1.237068</td>\n",
       "      <td>5</td>\n",
       "      <td>60</td>\n",
       "      <td>2</td>\n",
       "      <td>3</td>\n",
       "      <td>25000</td>\n",
       "      <td>2</td>\n",
       "      <td>3</td>\n",
       "      <td>N</td>\n",
       "      <td>1</td>\n",
       "    </tr>\n",
       "    <tr>\n",
       "      <th>180813</th>\n",
       "      <td>180814</td>\n",
       "      <td>31AUG2014</td>\n",
       "      <td>validate</td>\n",
       "      <td>SCH</td>\n",
       "      <td>M</td>\n",
       "      <td>26</td>\n",
       "      <td>Y</td>\n",
       "      <td>Y</td>\n",
       "      <td>0</td>\n",
       "      <td>0</td>\n",
       "      <td>-1.166505</td>\n",
       "      <td>3</td>\n",
       "      <td>60</td>\n",
       "      <td>2</td>\n",
       "      <td>3</td>\n",
       "      <td>35000</td>\n",
       "      <td>1</td>\n",
       "      <td>3</td>\n",
       "      <td>N</td>\n",
       "      <td>0</td>\n",
       "    </tr>\n",
       "    <tr>\n",
       "      <th>180814</th>\n",
       "      <td>180815</td>\n",
       "      <td>31AUG2014</td>\n",
       "      <td>validate</td>\n",
       "      <td>SCH</td>\n",
       "      <td>F</td>\n",
       "      <td>28</td>\n",
       "      <td>Y</td>\n",
       "      <td>N</td>\n",
       "      <td>0</td>\n",
       "      <td>0</td>\n",
       "      <td>-1.772115</td>\n",
       "      <td>3</td>\n",
       "      <td>50</td>\n",
       "      <td>2</td>\n",
       "      <td>3</td>\n",
       "      <td>23000</td>\n",
       "      <td>2</td>\n",
       "      <td>1</td>\n",
       "      <td>N</td>\n",
       "      <td>0</td>\n",
       "    </tr>\n",
       "    <tr>\n",
       "      <th>180815</th>\n",
       "      <td>180816</td>\n",
       "      <td>31AUG2014</td>\n",
       "      <td>validate</td>\n",
       "      <td>GRD</td>\n",
       "      <td>M</td>\n",
       "      <td>43</td>\n",
       "      <td>Y</td>\n",
       "      <td>Y</td>\n",
       "      <td>0</td>\n",
       "      <td>0</td>\n",
       "      <td>-2.748036</td>\n",
       "      <td>5</td>\n",
       "      <td>50</td>\n",
       "      <td>2</td>\n",
       "      <td>3</td>\n",
       "      <td>50000</td>\n",
       "      <td>1</td>\n",
       "      <td>3</td>\n",
       "      <td>N</td>\n",
       "      <td>0</td>\n",
       "    </tr>\n",
       "  </tbody>\n",
       "</table>\n",
       "<p>180816 rows × 20 columns</p>\n",
       "</div>"
      ],
      "text/plain": [
       "            id application_dt sample_cd education_cd gender_cd  age  \\\n",
       "0            1      01JAN2014     train          SCH         M   27   \n",
       "1            2      01JAN2014     train          GRD         F   26   \n",
       "2            3      01JAN2014     train          SCH         M   35   \n",
       "3            4      01JAN2014     train          GRD         F   35   \n",
       "4            5      01JAN2014     train          UGR         F   24   \n",
       "...        ...            ...       ...          ...       ...  ...   \n",
       "180811  180812      31AUG2014  validate          GRD         F   60   \n",
       "180812  180813      31AUG2014  validate          GRD         F   32   \n",
       "180813  180814      31AUG2014  validate          SCH         M   26   \n",
       "180814  180815      31AUG2014  validate          SCH         F   28   \n",
       "180815  180816      31AUG2014  validate          GRD         M   43   \n",
       "\n",
       "       car_own_flg car_type_flg  appl_rej_cnt  good_work_flg  Score_bki  \\\n",
       "0                Y            Y             0              0  -1.917831   \n",
       "1                N            N             0              0  -1.153144   \n",
       "2                N            N             0              1  -1.732810   \n",
       "3                N            N             0              1  -2.552133   \n",
       "4                N            N             0              0  -1.914581   \n",
       "...            ...          ...           ...            ...        ...   \n",
       "180811           Y            N             1              0  -2.341941   \n",
       "180812           Y            Y             0              0  -1.237068   \n",
       "180813           Y            Y             0              0  -1.166505   \n",
       "180814           Y            N             0              0  -1.772115   \n",
       "180815           Y            Y             0              0  -2.748036   \n",
       "\n",
       "        out_request_cnt  region_rating  home_address_cd  work_address_cd  \\\n",
       "0                     0             40                2                3   \n",
       "1                     2             60                2                3   \n",
       "2                     0             40                1                2   \n",
       "3                     2             20                2                3   \n",
       "4                     1             50                2                3   \n",
       "...                 ...            ...              ...              ...   \n",
       "180811                0             70                2                3   \n",
       "180812                5             60                2                3   \n",
       "180813                3             60                2                3   \n",
       "180814                3             50                2                3   \n",
       "180815                5             50                2                3   \n",
       "\n",
       "        income  SNA  first_time_cd Air_flg  default_flg  \n",
       "0        32000    1              4       N            0  \n",
       "1        50000    2              1       N            0  \n",
       "2        20000    4              3       N            0  \n",
       "3        80000    1              3       N            0  \n",
       "4        27000    1              2       N            0  \n",
       "...        ...  ...            ...     ...          ...  \n",
       "180811   90000    1              3       Y            0  \n",
       "180812   25000    2              3       N            1  \n",
       "180813   35000    1              3       N            0  \n",
       "180814   23000    2              1       N            0  \n",
       "180815   50000    1              3       N            0  \n",
       "\n",
       "[180816 rows x 20 columns]"
      ]
     },
     "execution_count": 22,
     "metadata": {},
     "output_type": "execute_result"
    }
   ],
   "source": [
    "data"
   ]
  },
  {
   "cell_type": "code",
   "execution_count": 23,
   "id": "841ca7b8",
   "metadata": {},
   "outputs": [
    {
     "name": "stdout",
     "output_type": "stream",
     "text": [
      "<class 'pandas.core.frame.DataFrame'>\n",
      "Int64Index: 180816 entries, 0 to 180815\n",
      "Data columns (total 20 columns):\n",
      " #   Column           Non-Null Count   Dtype  \n",
      "---  ------           --------------   -----  \n",
      " 0   id               180816 non-null  int64  \n",
      " 1   application_dt   180816 non-null  object \n",
      " 2   sample_cd        180816 non-null  object \n",
      " 3   education_cd     180093 non-null  object \n",
      " 4   gender_cd        180816 non-null  object \n",
      " 5   age              180816 non-null  int64  \n",
      " 6   car_own_flg      180816 non-null  object \n",
      " 7   car_type_flg     180816 non-null  object \n",
      " 8   appl_rej_cnt     180816 non-null  int64  \n",
      " 9   good_work_flg    180816 non-null  int64  \n",
      " 10  Score_bki        180816 non-null  float64\n",
      " 11  out_request_cnt  180816 non-null  int64  \n",
      " 12  region_rating    180816 non-null  int64  \n",
      " 13  home_address_cd  180816 non-null  int64  \n",
      " 14  work_address_cd  180816 non-null  int64  \n",
      " 15  income           180816 non-null  int64  \n",
      " 16  SNA              180816 non-null  int64  \n",
      " 17  first_time_cd    180816 non-null  int64  \n",
      " 18  Air_flg          180816 non-null  object \n",
      " 19  default_flg      180816 non-null  int64  \n",
      "dtypes: float64(1), int64(12), object(7)\n",
      "memory usage: 29.0+ MB\n"
     ]
    }
   ],
   "source": [
    "data.info()"
   ]
  },
  {
   "cell_type": "code",
   "execution_count": 24,
   "id": "99ace7b4",
   "metadata": {},
   "outputs": [],
   "source": [
    "#id - Анонимизированный идентификатор заявителя\n",
    "#application_dt - Дата подачи заявки\n",
    "#sample_cd - Категория выборки\n",
    "#education_cd - Образование\n",
    "#gender_cd - Пол\n",
    "#age - Возраст\n",
    "#car_own_flg - Флаг наличия автомобиля\n",
    "#car_type_flg - Флаг наличия иномарки\n",
    "#appl_rej_cnt - Количество отказанных прошлых заявок\n",
    "#good_work_flg - Флаг наличия \"хорошей\" работы\n",
    "#Score_bki - Скор балл по данным из бюро кредитных историй\n",
    "#out_request_cnt - Количество запросов в бюро\n",
    "#region_rating - Рейтинг региона\n",
    "#home_address_cd - Категоризатор домашнего адреса\n",
    "#work_address_cd - Категоризатор рабочего адреса\n",
    "#income - Доход заявителя\n",
    "#SNA - Связь заявителя с клиентами\n",
    "#first_time_cd - Давность наличия информации о заявителе\n",
    "#Air_flg - Наличие загран паспорта\n",
    "#default_flg - Флаг дефолта по кредиту"
   ]
  },
  {
   "cell_type": "code",
   "execution_count": 25,
   "id": "203ca017",
   "metadata": {},
   "outputs": [],
   "source": [
    "from sklearn.preprocessing import LabelEncoder"
   ]
  },
  {
   "cell_type": "code",
   "execution_count": 26,
   "id": "f4a36036",
   "metadata": {},
   "outputs": [],
   "source": [
    "label_encoder = LabelEncoder()\n",
    "    \n",
    "data['education_cd'] = label_encoder.fit_transform(data['education_cd'])"
   ]
  },
  {
   "cell_type": "code",
   "execution_count": 27,
   "id": "1cf7ee50",
   "metadata": {},
   "outputs": [],
   "source": [
    "data['gender_cd'] = label_encoder.fit_transform(data['gender_cd'])\n",
    "data['car_own_flg'] = label_encoder.fit_transform(data['car_own_flg'])\n",
    "data['car_type_flg'] = label_encoder.fit_transform(data['car_type_flg'])\n",
    "data['Air_flg'] = label_encoder.fit_transform(data['Air_flg'])"
   ]
  },
  {
   "cell_type": "code",
   "execution_count": 28,
   "id": "adcb18cb",
   "metadata": {},
   "outputs": [],
   "source": [
    "data = data[[ 'education_cd', 'gender_cd', 'age', 'car_own_flg',\n",
    "       'car_type_flg',  'appl_rej_cnt', 'good_work_flg' , 'Score_bki' , \n",
    "        'out_request_cnt' , 'region_rating' , 'home_address_cd', \n",
    "        'work_address_cd' , 'income' , 'SNA',\n",
    "        'first_time_cd' , 'Air_flg' , 'sample_cd' , 'default_flg' , 'id']]"
   ]
  },
  {
   "cell_type": "code",
   "execution_count": 29,
   "id": "224a4ca9",
   "metadata": {},
   "outputs": [
    {
     "name": "stdout",
     "output_type": "stream",
     "text": [
      "<class 'pandas.core.frame.DataFrame'>\n",
      "Int64Index: 180816 entries, 0 to 180815\n",
      "Data columns (total 19 columns):\n",
      " #   Column           Non-Null Count   Dtype  \n",
      "---  ------           --------------   -----  \n",
      " 0   education_cd     180816 non-null  int32  \n",
      " 1   gender_cd        180816 non-null  int32  \n",
      " 2   age              180816 non-null  int64  \n",
      " 3   car_own_flg      180816 non-null  int32  \n",
      " 4   car_type_flg     180816 non-null  int32  \n",
      " 5   appl_rej_cnt     180816 non-null  int64  \n",
      " 6   good_work_flg    180816 non-null  int64  \n",
      " 7   Score_bki        180816 non-null  float64\n",
      " 8   out_request_cnt  180816 non-null  int64  \n",
      " 9   region_rating    180816 non-null  int64  \n",
      " 10  home_address_cd  180816 non-null  int64  \n",
      " 11  work_address_cd  180816 non-null  int64  \n",
      " 12  income           180816 non-null  int64  \n",
      " 13  SNA              180816 non-null  int64  \n",
      " 14  first_time_cd    180816 non-null  int64  \n",
      " 15  Air_flg          180816 non-null  int32  \n",
      " 16  sample_cd        180816 non-null  object \n",
      " 17  default_flg      180816 non-null  int64  \n",
      " 18  id               180816 non-null  int64  \n",
      "dtypes: float64(1), int32(5), int64(12), object(1)\n",
      "memory usage: 24.1+ MB\n"
     ]
    }
   ],
   "source": [
    "data.info()"
   ]
  },
  {
   "cell_type": "code",
   "execution_count": 30,
   "id": "8e555762",
   "metadata": {},
   "outputs": [],
   "source": [
    "from sklearn.ensemble import RandomForestClassifier\n",
    "from sklearn.model_selection import train_test_split\n",
    "from sklearn import metrics"
   ]
  },
  {
   "cell_type": "code",
   "execution_count": 31,
   "id": "46984d37",
   "metadata": {},
   "outputs": [],
   "source": [
    "train_data = data[data['sample_cd'] == 'train']\n",
    "test_data = data[data['sample_cd'] == 'validate']"
   ]
  },
  {
   "cell_type": "code",
   "execution_count": 32,
   "id": "b603f5d7",
   "metadata": {},
   "outputs": [
    {
     "data": {
      "text/plain": [
       "0    159982\n",
       "1     20834\n",
       "Name: default_flg, dtype: int64"
      ]
     },
     "execution_count": 32,
     "metadata": {},
     "output_type": "execute_result"
    }
   ],
   "source": [
    "data['default_flg'].value_counts()"
   ]
  },
  {
   "cell_type": "code",
   "execution_count": 33,
   "id": "51326aa3",
   "metadata": {},
   "outputs": [],
   "source": [
    "train_data = train_data.drop(['sample_cd'] , axis =1 )\n",
    "test_data = test_data.drop(['sample_cd'] , axis =1 )\n",
    "train_data = train_data.drop(['id'] , axis =1 )\n",
    "test_data = test_data.drop(['id'] , axis =1 )"
   ]
  },
  {
   "cell_type": "code",
   "execution_count": 34,
   "id": "dc4fce6a",
   "metadata": {},
   "outputs": [],
   "source": [
    "X_train = train_data.drop(['default_flg'] , axis=1)\n",
    "y_train = train_data['default_flg']\n",
    "X_test = test_data.drop(['default_flg'] , axis=1)\n",
    "y_test = test_data['default_flg']"
   ]
  },
  {
   "cell_type": "code",
   "execution_count": 35,
   "id": "c38ec79f",
   "metadata": {},
   "outputs": [
    {
     "ename": "NameError",
     "evalue": "name 'small_train_data' is not defined",
     "output_type": "error",
     "traceback": [
      "\u001b[1;31m---------------------------------------------------------------------------\u001b[0m",
      "\u001b[1;31mNameError\u001b[0m                                 Traceback (most recent call last)",
      "Cell \u001b[1;32mIn[35], line 1\u001b[0m\n\u001b[1;32m----> 1\u001b[0m X_train_small \u001b[38;5;241m=\u001b[39m small_train_data\u001b[38;5;241m.\u001b[39mdrop([\u001b[38;5;124m'\u001b[39m\u001b[38;5;124mdefault_flg\u001b[39m\u001b[38;5;124m'\u001b[39m] , axis\u001b[38;5;241m=\u001b[39m\u001b[38;5;241m1\u001b[39m)\n\u001b[0;32m      2\u001b[0m y_train_small \u001b[38;5;241m=\u001b[39m small_train_data[\u001b[38;5;124m'\u001b[39m\u001b[38;5;124mdefault_flg\u001b[39m\u001b[38;5;124m'\u001b[39m]\n\u001b[0;32m      3\u001b[0m X_test_small \u001b[38;5;241m=\u001b[39m small_test_data\u001b[38;5;241m.\u001b[39mdrop([\u001b[38;5;124m'\u001b[39m\u001b[38;5;124mdefault_flg\u001b[39m\u001b[38;5;124m'\u001b[39m] , axis\u001b[38;5;241m=\u001b[39m\u001b[38;5;241m1\u001b[39m)\n",
      "\u001b[1;31mNameError\u001b[0m: name 'small_train_data' is not defined"
     ]
    }
   ],
   "source": [
    "X_train_small = small_train_data.drop(['default_flg'] , axis=1)\n",
    "y_train_small = small_train_data['default_flg']\n",
    "X_test_small = small_test_data.drop(['default_flg'] , axis=1)\n",
    "y_test_small = small_test_data['default_flg']"
   ]
  },
  {
   "cell_type": "code",
   "execution_count": 36,
   "id": "2393108e",
   "metadata": {},
   "outputs": [],
   "source": [
    "rf = RandomForestClassifier(n_estimators=100 , random_state=42 , class_weight='balanced' , n_jobs = 2 )"
   ]
  },
  {
   "cell_type": "code",
   "execution_count": 37,
   "id": "d81c102a",
   "metadata": {},
   "outputs": [
    {
     "data": {
      "text/html": [
       "<style>#sk-container-id-1 {color: black;background-color: white;}#sk-container-id-1 pre{padding: 0;}#sk-container-id-1 div.sk-toggleable {background-color: white;}#sk-container-id-1 label.sk-toggleable__label {cursor: pointer;display: block;width: 100%;margin-bottom: 0;padding: 0.3em;box-sizing: border-box;text-align: center;}#sk-container-id-1 label.sk-toggleable__label-arrow:before {content: \"▸\";float: left;margin-right: 0.25em;color: #696969;}#sk-container-id-1 label.sk-toggleable__label-arrow:hover:before {color: black;}#sk-container-id-1 div.sk-estimator:hover label.sk-toggleable__label-arrow:before {color: black;}#sk-container-id-1 div.sk-toggleable__content {max-height: 0;max-width: 0;overflow: hidden;text-align: left;background-color: #f0f8ff;}#sk-container-id-1 div.sk-toggleable__content pre {margin: 0.2em;color: black;border-radius: 0.25em;background-color: #f0f8ff;}#sk-container-id-1 input.sk-toggleable__control:checked~div.sk-toggleable__content {max-height: 200px;max-width: 100%;overflow: auto;}#sk-container-id-1 input.sk-toggleable__control:checked~label.sk-toggleable__label-arrow:before {content: \"▾\";}#sk-container-id-1 div.sk-estimator input.sk-toggleable__control:checked~label.sk-toggleable__label {background-color: #d4ebff;}#sk-container-id-1 div.sk-label input.sk-toggleable__control:checked~label.sk-toggleable__label {background-color: #d4ebff;}#sk-container-id-1 input.sk-hidden--visually {border: 0;clip: rect(1px 1px 1px 1px);clip: rect(1px, 1px, 1px, 1px);height: 1px;margin: -1px;overflow: hidden;padding: 0;position: absolute;width: 1px;}#sk-container-id-1 div.sk-estimator {font-family: monospace;background-color: #f0f8ff;border: 1px dotted black;border-radius: 0.25em;box-sizing: border-box;margin-bottom: 0.5em;}#sk-container-id-1 div.sk-estimator:hover {background-color: #d4ebff;}#sk-container-id-1 div.sk-parallel-item::after {content: \"\";width: 100%;border-bottom: 1px solid gray;flex-grow: 1;}#sk-container-id-1 div.sk-label:hover label.sk-toggleable__label {background-color: #d4ebff;}#sk-container-id-1 div.sk-serial::before {content: \"\";position: absolute;border-left: 1px solid gray;box-sizing: border-box;top: 0;bottom: 0;left: 50%;z-index: 0;}#sk-container-id-1 div.sk-serial {display: flex;flex-direction: column;align-items: center;background-color: white;padding-right: 0.2em;padding-left: 0.2em;position: relative;}#sk-container-id-1 div.sk-item {position: relative;z-index: 1;}#sk-container-id-1 div.sk-parallel {display: flex;align-items: stretch;justify-content: center;background-color: white;position: relative;}#sk-container-id-1 div.sk-item::before, #sk-container-id-1 div.sk-parallel-item::before {content: \"\";position: absolute;border-left: 1px solid gray;box-sizing: border-box;top: 0;bottom: 0;left: 50%;z-index: -1;}#sk-container-id-1 div.sk-parallel-item {display: flex;flex-direction: column;z-index: 1;position: relative;background-color: white;}#sk-container-id-1 div.sk-parallel-item:first-child::after {align-self: flex-end;width: 50%;}#sk-container-id-1 div.sk-parallel-item:last-child::after {align-self: flex-start;width: 50%;}#sk-container-id-1 div.sk-parallel-item:only-child::after {width: 0;}#sk-container-id-1 div.sk-dashed-wrapped {border: 1px dashed gray;margin: 0 0.4em 0.5em 0.4em;box-sizing: border-box;padding-bottom: 0.4em;background-color: white;}#sk-container-id-1 div.sk-label label {font-family: monospace;font-weight: bold;display: inline-block;line-height: 1.2em;}#sk-container-id-1 div.sk-label-container {text-align: center;}#sk-container-id-1 div.sk-container {/* jupyter's `normalize.less` sets `[hidden] { display: none; }` but bootstrap.min.css set `[hidden] { display: none !important; }` so we also need the `!important` here to be able to override the default hidden behavior on the sphinx rendered scikit-learn.org. See: https://github.com/scikit-learn/scikit-learn/issues/21755 */display: inline-block !important;position: relative;}#sk-container-id-1 div.sk-text-repr-fallback {display: none;}</style><div id=\"sk-container-id-1\" class=\"sk-top-container\"><div class=\"sk-text-repr-fallback\"><pre>RandomForestClassifier(class_weight=&#x27;balanced&#x27;, n_jobs=2, random_state=42)</pre><b>In a Jupyter environment, please rerun this cell to show the HTML representation or trust the notebook. <br />On GitHub, the HTML representation is unable to render, please try loading this page with nbviewer.org.</b></div><div class=\"sk-container\" hidden><div class=\"sk-item\"><div class=\"sk-estimator sk-toggleable\"><input class=\"sk-toggleable__control sk-hidden--visually\" id=\"sk-estimator-id-1\" type=\"checkbox\" checked><label for=\"sk-estimator-id-1\" class=\"sk-toggleable__label sk-toggleable__label-arrow\">RandomForestClassifier</label><div class=\"sk-toggleable__content\"><pre>RandomForestClassifier(class_weight=&#x27;balanced&#x27;, n_jobs=2, random_state=42)</pre></div></div></div></div></div>"
      ],
      "text/plain": [
       "RandomForestClassifier(class_weight='balanced', n_jobs=2, random_state=42)"
      ]
     },
     "execution_count": 37,
     "metadata": {},
     "output_type": "execute_result"
    }
   ],
   "source": [
    "rf.fit(X_train , y_train)"
   ]
  },
  {
   "cell_type": "code",
   "execution_count": 38,
   "id": "46dee672",
   "metadata": {},
   "outputs": [],
   "source": [
    "y_pred = rf.predict(X_test)"
   ]
  },
  {
   "cell_type": "code",
   "execution_count": 39,
   "id": "b0f91865",
   "metadata": {},
   "outputs": [
    {
     "name": "stdout",
     "output_type": "stream",
     "text": [
      "Accuracy: 0.9006056489500198\n"
     ]
    }
   ],
   "source": [
    "from sklearn.metrics import accuracy_score\n",
    "\n",
    "accuracy = accuracy_score(y_test, y_pred)\n",
    "print(\"Accuracy:\", accuracy)"
   ]
  },
  {
   "cell_type": "code",
   "execution_count": 40,
   "id": "dfc5f431",
   "metadata": {},
   "outputs": [
    {
     "data": {
      "image/png": "[encoded data removed]",
      "text/plain": [
       "<Figure size 640x480 with 1 Axes>"
      ]
     },
     "metadata": {},
     "output_type": "display_data"
    }
   ],
   "source": [
    "y_pred_proba = rf.predict_proba(X_test)[::,1]\n",
    "fpr, tpr, _ = metrics.roc_curve(y_test,  y_pred_proba)\n",
    "auc = metrics.roc_auc_score(y_test, y_pred_proba)\n",
    "plt.plot(fpr,tpr,label=\"AUC=\"+str(auc))\n",
    "plt.legend(loc=4)\n",
    "plt.show()"
   ]
  },
  {
   "cell_type": "code",
   "execution_count": 41,
   "id": "ff262c17",
   "metadata": {},
   "outputs": [
    {
     "data": {
      "image/png": "[encoded data removed]",
      "text/plain": [
       "<Figure size 1200x800 with 1 Axes>"
      ]
     },
     "metadata": {},
     "output_type": "display_data"
    }
   ],
   "source": [
    "feature_importances = rf.feature_importances_\n",
    "feature_names = X_train.columns\n",
    "\n",
    "importance_df = pd.DataFrame({'Feature': feature_names, 'Importance': feature_importances})\n",
    "\n",
    "importance_df = importance_df.sort_values(by='Importance', ascending=False)\n",
    "\n",
    "plt.figure(figsize=(12, 8))\n",
    "plt.barh(importance_df['Feature'], importance_df['Importance'])\n",
    "plt.xlabel('Важность признака')\n",
    "plt.ylabel('Признак')\n",
    "plt.title('Важность признаков в модели RandomForestClassifier')\n",
    "plt.show()"
   ]
  },
  {
   "cell_type": "code",
   "execution_count": 42,
   "id": "3e1867eb",
   "metadata": {},
   "outputs": [
    {
     "data": {
      "image/png": "[encoded data removed]",
      "text/plain": [
       "<Figure size 800x600 with 1 Axes>"
      ]
     },
     "metadata": {},
     "output_type": "display_data"
    }
   ],
   "source": [
    "from sklearn.metrics import confusion_matrix\n",
    "confusion = confusion_matrix(y_test, y_pred)\n",
    "#70667\n",
    "import seaborn as sns\n",
    "import matplotlib.pyplot as plt\n",
    "\n",
    "plt.figure(figsize=(8, 6))\n",
    "sns.heatmap(confusion, annot=True, fmt='d', cmap='Blues', cbar=False)\n",
    "plt.xlabel('Предсказанный класс')\n",
    "plt.ylabel('Фактический класс')\n",
    "plt.title('Матрица ошибок')\n",
    "plt.show()"
   ]
  },
  {
   "cell_type": "markdown",
   "id": "bc73d9d2",
   "metadata": {},
   "source": [
    "# Деплоинг"
   ]
  },
  {
   "cell_type": "code",
   "execution_count": 43,
   "id": "9d871fbb",
   "metadata": {},
   "outputs": [],
   "source": [
    "import pickle"
   ]
  },
  {
   "cell_type": "code",
   "execution_count": 44,
   "id": "97b730fb",
   "metadata": {},
   "outputs": [],
   "source": [
    "pickle_out = open(\"random_forest_credit_scoring.pkl\" , \"wb\")"
   ]
  },
  {
   "cell_type": "code",
   "execution_count": 45,
   "id": "ec161860",
   "metadata": {},
   "outputs": [],
   "source": [
    "pickle.dump(rf , pickle_out)"
   ]
  },
  {
   "cell_type": "code",
   "execution_count": 46,
   "id": "adad8548",
   "metadata": {},
   "outputs": [],
   "source": [
    "pickle_out.close()"
   ]
  },
  {
   "cell_type": "code",
   "execution_count": 55,
   "id": "44b56fa3",
   "metadata": {},
   "outputs": [
    {
     "name": "stdout",
     "output_type": "stream",
     "text": [
      "Defaulting to user installation because normal site-packages is not writeable\n",
      "Requirement already satisfied: streamlit in c:\\users\\saido\\appdata\\roaming\\python\\python311\\site-packages (1.27.1)\n",
      "Requirement already satisfied: altair<6,>=4.0 in c:\\users\\saido\\appdata\\roaming\\python\\python311\\site-packages (from streamlit) (5.1.1)\n",
      "Requirement already satisfied: blinker<2,>=1.0.0 in c:\\users\\saido\\appdata\\roaming\\python\\python311\\site-packages (from streamlit) (1.6.2)\n",
      "Requirement already satisfied: cachetools<6,>=4.0 in c:\\users\\saido\\appdata\\roaming\\python\\python311\\site-packages (from streamlit) (5.3.1)\n",
      "Requirement already satisfied: click<9,>=7.0 in c:\\programdata\\anaconda3\\lib\\site-packages (from streamlit) (8.0.4)\n",
      "Requirement already satisfied: importlib-metadata<7,>=1.4 in c:\\programdata\\anaconda3\\lib\\site-packages (from streamlit) (6.0.0)\n",
      "Requirement already satisfied: numpy<2,>=1.19.3 in c:\\programdata\\anaconda3\\lib\\site-packages (from streamlit) (1.24.3)\n",
      "Requirement already satisfied: packaging<24,>=16.8 in c:\\programdata\\anaconda3\\lib\\site-packages (from streamlit) (23.0)\n",
      "Requirement already satisfied: pandas<3,>=1.3.0 in c:\\programdata\\anaconda3\\lib\\site-packages (from streamlit) (1.5.3)\n",
      "Requirement already satisfied: pillow<11,>=7.1.0 in c:\\programdata\\anaconda3\\lib\\site-packages (from streamlit) (9.4.0)\n",
      "Requirement already satisfied: protobuf<5,>=3.20 in c:\\users\\saido\\appdata\\roaming\\python\\python311\\site-packages (from streamlit) (4.24.3)\n",
      "Requirement already satisfied: pyarrow>=6.0 in c:\\programdata\\anaconda3\\lib\\site-packages (from streamlit) (11.0.0)\n",
      "Requirement already satisfied: python-dateutil<3,>=2.7.3 in c:\\programdata\\anaconda3\\lib\\site-packages (from streamlit) (2.8.2)\n",
      "Requirement already satisfied: requests<3,>=2.27 in c:\\programdata\\anaconda3\\lib\\site-packages (from streamlit) (2.29.0)\n",
      "Requirement already satisfied: rich<14,>=10.14.0 in c:\\users\\saido\\appdata\\roaming\\python\\python311\\site-packages (from streamlit) (13.6.0)\n",
      "Requirement already satisfied: tenacity<9,>=8.1.0 in c:\\programdata\\anaconda3\\lib\\site-packages (from streamlit) (8.2.2)\n",
      "Requirement already satisfied: toml<2,>=0.10.1 in c:\\programdata\\anaconda3\\lib\\site-packages (from streamlit) (0.10.2)\n",
      "Requirement already satisfied: typing-extensions<5,>=4.1.0 in c:\\programdata\\anaconda3\\lib\\site-packages (from streamlit) (4.6.3)\n",
      "Requirement already satisfied: tzlocal<6,>=1.1 in c:\\users\\saido\\appdata\\roaming\\python\\python311\\site-packages (from streamlit) (5.0.1)\n",
      "Requirement already satisfied: validators<1,>=0.2 in c:\\users\\saido\\appdata\\roaming\\python\\python311\\site-packages (from streamlit) (0.22.0)\n",
      "Requirement already satisfied: gitpython!=3.1.19,<4,>=3.0.7 in c:\\users\\saido\\appdata\\roaming\\python\\python311\\site-packages (from streamlit) (3.1.37)\n",
      "Requirement already satisfied: pydeck<1,>=0.8.0b4 in c:\\users\\saido\\appdata\\roaming\\python\\python311\\site-packages (from streamlit) (0.8.1b0)\n",
      "Requirement already satisfied: tornado<7,>=6.0.3 in c:\\programdata\\anaconda3\\lib\\site-packages (from streamlit) (6.2)\n",
      "Requirement already satisfied: watchdog>=2.1.5 in c:\\programdata\\anaconda3\\lib\\site-packages (from streamlit) (2.1.6)\n",
      "Requirement already satisfied: jinja2 in c:\\programdata\\anaconda3\\lib\\site-packages (from altair<6,>=4.0->streamlit) (3.1.2)\n",
      "Requirement already satisfied: jsonschema>=3.0 in c:\\programdata\\anaconda3\\lib\\site-packages (from altair<6,>=4.0->streamlit) (4.17.3)\n",
      "Requirement already satisfied: toolz in c:\\programdata\\anaconda3\\lib\\site-packages (from altair<6,>=4.0->streamlit) (0.12.0)\n",
      "Requirement already satisfied: colorama in c:\\programdata\\anaconda3\\lib\\site-packages (from click<9,>=7.0->streamlit) (0.4.6)\n",
      "Requirement already satisfied: gitdb<5,>=4.0.1 in c:\\users\\saido\\appdata\\roaming\\python\\python311\\site-packages (from gitpython!=3.1.19,<4,>=3.0.7->streamlit) (4.0.10)\n",
      "Requirement already satisfied: zipp>=0.5 in c:\\programdata\\anaconda3\\lib\\site-packages (from importlib-metadata<7,>=1.4->streamlit) (3.11.0)\n",
      "Requirement already satisfied: pytz>=2020.1 in c:\\programdata\\anaconda3\\lib\\site-packages (from pandas<3,>=1.3.0->streamlit) (2022.7)\n",
      "Requirement already satisfied: six>=1.5 in c:\\programdata\\anaconda3\\lib\\site-packages (from python-dateutil<3,>=2.7.3->streamlit) (1.16.0)\n",
      "Requirement already satisfied: charset-normalizer<4,>=2 in c:\\programdata\\anaconda3\\lib\\site-packages (from requests<3,>=2.27->streamlit) (2.0.4)\n",
      "Requirement already satisfied: idna<4,>=2.5 in c:\\programdata\\anaconda3\\lib\\site-packages (from requests<3,>=2.27->streamlit) (3.4)\n",
      "Requirement already satisfied: urllib3<1.27,>=1.21.1 in c:\\programdata\\anaconda3\\lib\\site-packages (from requests<3,>=2.27->streamlit) (1.26.16)\n",
      "Requirement already satisfied: certifi>=2017.4.17 in c:\\programdata\\anaconda3\\lib\\site-packages (from requests<3,>=2.27->streamlit) (2023.5.7)\n",
      "Requirement already satisfied: markdown-it-py>=2.2.0 in c:\\programdata\\anaconda3\\lib\\site-packages (from rich<14,>=10.14.0->streamlit) (2.2.0)\n",
      "Requirement already satisfied: pygments<3.0.0,>=2.13.0 in c:\\programdata\\anaconda3\\lib\\site-packages (from rich<14,>=10.14.0->streamlit) (2.15.1)\n",
      "Requirement already satisfied: tzdata in c:\\users\\saido\\appdata\\roaming\\python\\python311\\site-packages (from tzlocal<6,>=1.1->streamlit) (2023.3)\n",
      "Requirement already satisfied: smmap<6,>=3.0.1 in c:\\users\\saido\\appdata\\roaming\\python\\python311\\site-packages (from gitdb<5,>=4.0.1->gitpython!=3.1.19,<4,>=3.0.7->streamlit) (5.0.1)\n",
      "Requirement already satisfied: MarkupSafe>=2.0 in c:\\programdata\\anaconda3\\lib\\site-packages (from jinja2->altair<6,>=4.0->streamlit) (2.1.1)\n",
      "Requirement already satisfied: attrs>=17.4.0 in c:\\programdata\\anaconda3\\lib\\site-packages (from jsonschema>=3.0->altair<6,>=4.0->streamlit) (22.1.0)\n",
      "Requirement already satisfied: pyrsistent!=0.17.0,!=0.17.1,!=0.17.2,>=0.14.0 in c:\\programdata\\anaconda3\\lib\\site-packages (from jsonschema>=3.0->altair<6,>=4.0->streamlit) (0.18.0)\n",
      "Requirement already satisfied: mdurl~=0.1 in c:\\programdata\\anaconda3\\lib\\site-packages (from markdown-it-py>=2.2.0->rich<14,>=10.14.0->streamlit) (0.1.0)\n"
     ]
    }
   ],
   "source": [
    "!pip install streamlit"
   ]
  },
  {
   "cell_type": "code",
   "execution_count": 47,
   "id": "02c17475",
   "metadata": {},
   "outputs": [],
   "source": [
    "import streamlit as st"
   ]
  },
  {
   "cell_type": "code",
   "execution_count": 48,
   "id": "c0e08814",
   "metadata": {},
   "outputs": [
    {
     "ename": "SyntaxError",
     "evalue": "invalid syntax (1135476472.py, line 1)",
     "output_type": "error",
     "traceback": [
      "\u001b[1;36m  Cell \u001b[1;32mIn[48], line 1\u001b[1;36m\u001b[0m\n\u001b[1;33m    streamlit run\u001b[0m\n\u001b[1;37m              ^\u001b[0m\n\u001b[1;31mSyntaxError\u001b[0m\u001b[1;31m:\u001b[0m invalid syntax\n"
     ]
    }
   ],
   "source": [
    "streamlit run"
   ]
  },
  {
   "cell_type": "code",
   "execution_count": 49,
   "id": "04d38ccf",
   "metadata": {},
   "outputs": [
    {
     "name": "stderr",
     "output_type": "stream",
     "text": [
      "2023-10-03 14:34:37.077 \n",
      "  \u001b[33m\u001b[1mWarning:\u001b[0m to view this Streamlit app on a browser, run it with the following\n",
      "  command:\n",
      "\n",
      "    streamlit run C:\\ProgramData\\anaconda3\\Lib\\site-packages\\ipykernel_launcher.py [ARGUMENTS]\n"
     ]
    }
   ],
   "source": [
    "import streamlit as st\n",
    "\n",
    "st.title('Мое первое Streamlit приложение')\n",
    "st.write('Это очень простое приложение с использованием Streamlit.')"
   ]
  }
 ],
 "metadata": {
  "kernelspec": {
   "display_name": "Python 3 (ipykernel)",
   "language": "python",
   "name": "python3"
  },
  "language_info": {
   "codemirror_mode": {
    "name": "ipython",
    "version": 3
   },
   "file_extension": ".py",
   "mimetype": "text/x-python",
   "name": "python",
   "nbconvert_exporter": "python",
   "pygments_lexer": "ipython3",
   "version": "3.11.3"
  }
 },
 "nbformat": 4,
 "nbformat_minor": 5
}
